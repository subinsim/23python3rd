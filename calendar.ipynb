{
  "nbformat": 4,
  "nbformat_minor": 0,
  "metadata": {
    "colab": {
      "provenance": [],
      "authorship_tag": "ABX9TyOPFT7swhGFUfZB3u0jwVQT",
      "include_colab_link": true
    },
    "kernelspec": {
      "name": "python3",
      "display_name": "Python 3"
    },
    "language_info": {
      "name": "python"
    }
  },
  "cells": [
    {
      "cell_type": "markdown",
      "metadata": {
        "id": "view-in-github",
        "colab_type": "text"
      },
      "source": [
        "<a href=\"https://colab.research.google.com/github/subinsim/23python3rd/blob/main/calendar.ipynb\" target=\"_parent\"><img src=\"https://colab.research.google.com/assets/colab-badge.svg\" alt=\"Open In Colab\"/></a>"
      ]
    },
    {
      "cell_type": "code",
      "execution_count": 1,
      "metadata": {
        "colab": {
          "base_uri": "https://localhost:8080/"
        },
        "id": "_74ne_LJZHOw",
        "outputId": "7802e78f-049d-45a1-a325-a1c4ba9bcc32"
      },
      "outputs": [
        {
          "output_type": "stream",
          "name": "stdout",
          "text": [
            "    October 2023\n",
            "Mo Tu We Th Fr Sa Su\n",
            "                   1\n",
            " 2  3  4  5  6  7  8\n",
            " 9 10 11 12 13 14 15\n",
            "16 17 18 19 20 21 22\n",
            "23 24 25 26 27 28 29\n",
            "30 31\n",
            "\n"
          ]
        }
      ],
      "source": [
        "import calendar\n",
        "yy = 2023\n",
        "mm = 10\n",
        "print(calendar.month(yy,mm))"
      ]
    },
    {
      "cell_type": "markdown",
      "source": [
        "2023년 10월 19일  To Do List\n",
        "\n",
        "- 09:10-11:00 컴퓨팅적 사고와 기초 코딩\n",
        "- 11:00-12:00 아동건강교육\n",
        "- 12:00-12:30 점심\n",
        "- !4:00-16:00 진로탐색과 생애설계\n",
        "- 17:30-18:00 저녁\n"
      ],
      "metadata": {
        "id": "4nIge3s7bIDF"
      }
    },
    {
      "cell_type": "code",
      "source": [
        "print('2023년 10월 19일 To Do List')\n",
        "print(\"09:10-11:00 컴퓨팅적 사고와 기초 코딩\")\n",
        "print(\"11:00-12:00 아동건강교육\")\n",
        "print(\"12:00-12:30 점심\")\n",
        "print(\"14:00-16:00 진로탐색과 생애설계\")\n",
        "print(\"17:30-18:00 저녁\")"
      ],
      "metadata": {
        "colab": {
          "base_uri": "https://localhost:8080/"
        },
        "id": "mReUOJWxb51G",
        "outputId": "63fe7d14-35c4-42cd-cc51-e71f430cfa92"
      },
      "execution_count": 2,
      "outputs": [
        {
          "output_type": "stream",
          "name": "stdout",
          "text": [
            "2023년 10월 19일 To Do List\n",
            "09:10-11:00 컴퓨팅적 사고와 기초 코딩\n",
            "11:00-12:00 아동건강교육\n",
            "12:00-12:30 점심\n",
            "14:00-16:00 진로탐색과 생애설계\n",
            "17:30-18:00 저녁\n"
          ]
        }
      ]
    }
  ]
}