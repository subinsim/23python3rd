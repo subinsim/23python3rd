{
  "nbformat": 4,
  "nbformat_minor": 0,
  "metadata": {
    "colab": {
      "provenance": [],
      "authorship_tag": "ABX9TyNMRMmSpVRpWt5rULtXhxOG",
      "include_colab_link": true
    },
    "kernelspec": {
      "name": "python3",
      "display_name": "Python 3"
    },
    "language_info": {
      "name": "python"
    }
  },
  "cells": [
    {
      "cell_type": "markdown",
      "metadata": {
        "id": "view-in-github",
        "colab_type": "text"
      },
      "source": [
        "<a href=\"https://colab.research.google.com/github/subinsim/23python3rd/blob/main/CTAB_7_2.ipynb\" target=\"_parent\"><img src=\"https://colab.research.google.com/assets/colab-badge.svg\" alt=\"Open In Colab\"/></a>"
      ]
    },
    {
      "cell_type": "markdown",
      "source": [
        "1. 사용자로부터 2개의 정수를 받아서 합계를 출력"
      ],
      "metadata": {
        "id": "ha7UIgL3dHB5"
      }
    },
    {
      "cell_type": "code",
      "source": [
        "print(\"정수 2개를 입력하시오.\")\n",
        "x = int(input(\"x의 값을 입력하시오. :\"))\n",
        "y = int(input(\"y의 값을 입력하시오. :\"))\n",
        "sum = x + y\n",
        "print(\"x + y의 합계는\" , sum)"
      ],
      "metadata": {
        "colab": {
          "base_uri": "https://localhost:8080/"
        },
        "id": "ZEcnn12ydPje",
        "outputId": "66dd14b0-5c9f-4d78-a0eb-e8fbf948089c"
      },
      "execution_count": 4,
      "outputs": [
        {
          "output_type": "stream",
          "name": "stdout",
          "text": [
            "정수 2개를 입력하시오.\n",
            "x의 값을 입력하시오. :183\n",
            "y의 값을 입력하시오. :69\n",
            "x + y의 합계는 252\n"
          ]
        }
      ]
    },
    {
      "cell_type": "markdown",
      "source": [
        "2. 부가세 계산"
      ],
      "metadata": {
        "id": "LjDGl5D4e6vj"
      }
    },
    {
      "cell_type": "code",
      "source": [
        "print(\"상품의 가격을 입력하시오.\")\n",
        "price = int(input(\"가격을 입력하시오. :\"))\n",
        "vat = price * 0.1\n",
        "print(\"상품의 가격은\" , vat)"
      ],
      "metadata": {
        "colab": {
          "base_uri": "https://localhost:8080/"
        },
        "id": "FIJklmDqfAQ_",
        "outputId": "eae034d9-74d9-4e54-e17d-cbaae32f4d18"
      },
      "execution_count": 5,
      "outputs": [
        {
          "output_type": "stream",
          "name": "stdout",
          "text": [
            "상품의 가격을 입력하시오.\n",
            "가격을 입력하시오. :5000\n",
            "상품의 가격은 500.0\n"
          ]
        }
      ]
    }
  ]
}