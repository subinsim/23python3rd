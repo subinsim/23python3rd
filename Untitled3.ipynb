{
  "nbformat": 4,
  "nbformat_minor": 0,
  "metadata": {
    "colab": {
      "provenance": [],
      "authorship_tag": "ABX9TyM1jTFUEZr/elLsbgR0z2fx",
      "include_colab_link": true
    },
    "kernelspec": {
      "name": "python3",
      "display_name": "Python 3"
    },
    "language_info": {
      "name": "python"
    }
  },
  "cells": [
    {
      "cell_type": "markdown",
      "metadata": {
        "id": "view-in-github",
        "colab_type": "text"
      },
      "source": [
        "<a href=\"https://colab.research.google.com/github/subinsim/23python3rd/blob/main/Untitled3.ipynb\" target=\"_parent\"><img src=\"https://colab.research.google.com/assets/colab-badge.svg\" alt=\"Open In Colab\"/></a>"
      ]
    },
    {
      "cell_type": "code",
      "source": [
        "Python 3.12.0 (tags/v3.12.0:0fb18b0, Oct  2 2023, 13:03:39) [MSC v.1935 64 bit (AMD64)] on win32\n",
        "Type \"help\", \"copyright\", \"credits\" or \"license()\" for more information.\n",
        "print(\"Hello World\")   #\"Hello World\"라는 문자열을 출력하는 함수입니다. 따라서 이 코드를 실행하면 \"Hello World\"가 출력됩니다.\n",
        "Hello World\n",
        "\\\n",
        "\"Hello World\"    #큰 따옴표로 묶인 \"Hello World\"라는 문자열입니다.\n",
        "'Hello World'    #작은 따옴표로 묶인 \"Hello World\"라는 문자열입니다.\n",
        "4+4    #두 개의 정수를 더하는 연산입니다. 따라서 이 코드를 실행하면 8이 출력됩니다.\n",
        "8\n",
        "Hello World    #이 줄은 코드가 아니라 그냥 문자열입니다. 따라서 이 코드를 실행하면 에러가 발생합니다.\n",
        "SyntaxError: incomplete input"
      ],
      "metadata": {
        "id": "iROa47JAK5s4"
      },
      "execution_count": null,
      "outputs": []
    },
    {
      "cell_type": "code",
      "source": [
        "\"2. 사용자로부터 3개의 변수를 입력받아서 합을 구하고, 평균을 구하는 코드\\n\",\n",
        "        \" - 변수는 :n1, n2, n3, total, average\\n\",\n",
        "        \"n1 = int(input(\\\"n1의 값을 입력하시오.: \\\"))\\n\",   # 사용자로부터 n1의 값을 입력받아 정수로 변환하여 변수 n1에 저장합니다.\n",
        "        \"n2 = int(input(\\\"n2의 값을 입력하시오.: \\\"))\\n\",   # 사용자로부터 n2의 값을 입력받아 정수로 변환하여 변수 n2에 저장합니다.\n",
        "        \"n3 = int(input(\\\"n3의 값을 입력하시오.: \\\"))\\n\",   # 사용자로부터 n3의 값을 입력받아 정수로 변환하여 변수 n2에 저장합니다.\n",
        "        \"total = n1 + n2 + n3\\n\",                      # 변수 n1, n2, n3의 합을 구하여 변수 total에 저장합니다.\n",
        "        \"print('합계는 :',total)\\n\",                     # 변수 total의 값을 출력합니다.\n",
        "        \"average  = total / 3\\n\",                      # 변수 total을 3으로 나누어 평균을 구하여 변수 average에 저장합니다.\n",
        "        \"print('평균은 :', average)\"                     # 변수 average의 값을 출력합니다.\n",
        ""
      ],
      "metadata": {
        "colab": {
          "base_uri": "https://localhost:8080/",
          "height": 144
        },
        "id": "2a0HOLdnLByX",
        "outputId": "159839e6-51b4-4d14-d623-960d0546e902"
      },
      "execution_count": 1,
      "outputs": [
        {
          "output_type": "error",
          "ename": "IndentationError",
          "evalue": "ignored",
          "traceback": [
            "\u001b[0;36m  File \u001b[0;32m\"<ipython-input-1-ce3eec45bcdf>\"\u001b[0;36m, line \u001b[0;32m2\u001b[0m\n\u001b[0;31m    \" - 변수는 :n1, n2, n3, total, average\\n\",\u001b[0m\n\u001b[0m    ^\u001b[0m\n\u001b[0;31mIndentationError\u001b[0m\u001b[0;31m:\u001b[0m unexpected indent\n"
          ]
        }
      ]
    },
    {
      "cell_type": "code",
      "source": [
        "# 다섯 명의 성적을 입력을 받아 평균을 내는 프로그램을 만든다.\n",
        "# 반복문과 조건문을 사용한다.\n",
        "# 변수는 total, counter, grade, average\n",
        "total = 0           # 변수 total은 0으로 선언하였다.\n",
        "counter = 1             # 변수 counter은 1로 선언하였다.\n",
        "while counter <= 10:        # 반복문 while을 사용하여 counter가 10보다 작거나 같을 때 다음 내부 문장으로 넘어간다.\n",
        "    grade = int(input(\"성적을 입력하시오.: \"))    # 변수 grade에 int(정수형 변환)와 사용자로부터 입력을 받는 input을 사용하여 정수를 받는다.\n",
        "    total = grade + total           # 변수 total은 성적 grade와 변수 total을 합한 값을 선언한다.\n",
        "    counter = counter + 1           # 변수 counter는 초기 선언한 counter의 값에 실행할 때마다 1씩 추가된다.\n",
        "average = total//10          # 변수 average에 반복문에서 계산한 total 값을 10으로 나눈다.\n",
        "print(average)\n",
        "# write by 심수빈"
      ],
      "metadata": {
        "id": "OH0G7j_8LWkD"
      },
      "execution_count": null,
      "outputs": []
    },
    {
      "cell_type": "markdown",
      "source": [
        "1. 두 가지 이상의 선택 다방향 선택구조 코딩\n",
        "배송료 처리 3가지로 코딩\n",
        "- 변수 : price\n",
        "- 조건 : 10만원 이상 배송비 0, 2만원 이상은 3천원, 2만원 이하면 5천원"
      ],
      "metadata": {
        "id": "VRyucC1rLsgN"
      }
    },
    {
      "cell_type": "code",
      "source": [
        "price = int(input(\"구입금액 입력: \"))                     # 변수 price 사용자가 정수형 금액입력\n",
        "if price >= 100000:                                       # price의 값이 10만원보다 크거나 같으면\n",
        "  shipping_cost = 0                                       # 선택1. 배송료(shipping_cost)는 0원\n",
        "else:                                                     # 그게 아니면\n",
        "  if price >= 20000:                                      # 선택2. price의 값이 2만원보다 크거나 같으면\n",
        "    shipping_cost = 3000                                  # 배송료(shipping_cost)는 3000원\n",
        "  else:                                                   # 그것도 아니면\n",
        "    shipping_cost = 5000                                  # 선택3. 배송료(shiipping_cost)는 5000원\n",
        "  print(f'배송료는 {shipping_cost}원 입니다.')            # T-stirng문"
      ],
      "metadata": {
        "colab": {
          "base_uri": "https://localhost:8080/"
        },
        "id": "X7y5lbXyLthm",
        "outputId": "7aa68b8d-1374-4190-9e4d-53998fb6f2bf"
      },
      "execution_count": 2,
      "outputs": [
        {
          "output_type": "stream",
          "name": "stdout",
          "text": [
            "구입금액 입력: 50000\n",
            "배송료는 3000원 입니다.\n"
          ]
        }
      ]
    },
    {
      "cell_type": "markdown",
      "source": [
        "2. 반복구조를 이용한 \"환영합니다.\"를 5번 출력하는 코드작성\n",
        "- 변수 : Welcome\n",
        "- 출력내용 : 환영합니다.를 세로로 5번,10번,30번"
      ],
      "metadata": {
        "id": "GpIqG2D4L7To"
      }
    },
    {
      "cell_type": "code",
      "source": [
        "print(\"환영합니다.\")\n",
        "print(\"환영합니다.\")\n",
        "print(\"환영합니다.\")\n",
        "print(\"환영합니다.\")\n",
        "print(\"환영합니다.\")"
      ],
      "metadata": {
        "colab": {
          "base_uri": "https://localhost:8080/"
        },
        "id": "ePo9yy60MEPB",
        "outputId": "fb921919-71e2-4018-9cc9-23bcc2535032"
      },
      "execution_count": 3,
      "outputs": [
        {
          "output_type": "stream",
          "name": "stdout",
          "text": [
            "환영합니다.\n",
            "환영합니다.\n",
            "환영합니다.\n",
            "환영합니다.\n",
            "환영합니다.\n"
          ]
        }
      ]
    },
    {
      "cell_type": "code",
      "source": [
        "print(\"환영합니다.\\n\" * 5)"
      ],
      "metadata": {
        "colab": {
          "base_uri": "https://localhost:8080/"
        },
        "id": "LNZB1mCoMSQ0",
        "outputId": "59841ff9-c313-48db-a9ae-0d9a1900de60"
      },
      "execution_count": 5,
      "outputs": [
        {
          "output_type": "stream",
          "name": "stdout",
          "text": [
            "환영합니다.\n",
            "환영합니다.\n",
            "환영합니다.\n",
            "환영합니다.\n",
            "환영합니다.\n",
            "\n"
          ]
        }
      ]
    },
    {
      "cell_type": "markdown",
      "source": [
        "위의 코드는 \"환영합니다.\"를 5번 출력하는 방법을 보여주고 있습니다.\n",
        "\n",
        "첫 번째 방법은 개별적으로 print문을 사용하여 \"환영합니다.\"를 5번 출력합니다.\n",
        "\n",
        "두 번째 방법은 문자열 곱셈 연산자(*)를 사용하여 \"환영합니다.\\n\"을 5번 반복한 후 출력합니다. 이때, \\n은 줄바꿈을 나타내는 이스케이프 시퀀스입니다.\n",
        "\n",
        "위의 코드를 실행하면 \"환영합니다.\"가 각각 한 줄씩 5번 출력됩니다"
      ],
      "metadata": {
        "id": "pidD7pd4MnVx"
      }
    },
    {
      "cell_type": "code",
      "source": [
        "count = 1\n",
        "while count <= 5:\n",
        "  print(\"(\", count, \")\", \"환영합니다.\")\n",
        "  count = count + 1"
      ],
      "metadata": {
        "colab": {
          "base_uri": "https://localhost:8080/"
        },
        "id": "rt5VuiGyM-kX",
        "outputId": "cd2bf1c2-519f-41be-d7de-d0e03ba126b7"
      },
      "execution_count": 6,
      "outputs": [
        {
          "output_type": "stream",
          "name": "stdout",
          "text": [
            "( 1 ) 환영합니다.\n",
            "( 2 ) 환영합니다.\n",
            "( 3 ) 환영합니다.\n",
            "( 4 ) 환영합니다.\n",
            "( 5 ) 환영합니다.\n"
          ]
        }
      ]
    },
    {
      "cell_type": "markdown",
      "source": [
        "위의 코드는 변수 count를 1로 초기화한 후, count가 5보다 작거나 같은 동안 반복문을 실행합니다.\n",
        "\n",
        "반복문 내부에서는 print문을 사용하여 \"(\", count, \")\", \"환영합니다.\"를 출력합니다. count 변수는 괄호 안에 출력되며, count = count + 1을 통해 count 변수가 1씩 증가합니다.\n",
        "\n",
        "이를 통해 \"(\", 1, \")\", \"환영합니다.\"부터 \"(\", 5, \")\", \"환영합니다.\"까지 총 5번 출력됩니다."
      ],
      "metadata": {
        "id": "h7rhLuJDM7lX"
      }
    },
    {
      "cell_type": "markdown",
      "source": [
        "0부터 9까지 출력하는 코드 작성\n",
        "- 변수 : x"
      ],
      "metadata": {
        "id": "GVrERFmRNFQe"
      }
    },
    {
      "cell_type": "code",
      "source": [
        "\n",
        "x = 0\n",
        "while x < 10:\n",
        "  #print(x)\n",
        "  print(x, end=' ')\n",
        "  x = x + 1"
      ],
      "metadata": {
        "colab": {
          "base_uri": "https://localhost:8080/"
        },
        "id": "9e9PDB_3NGwp",
        "outputId": "ce61bcae-75bd-4619-c949-d30b9bb3bedf"
      },
      "execution_count": 7,
      "outputs": [
        {
          "output_type": "stream",
          "name": "stdout",
          "text": [
            "0 1 2 3 4 5 6 7 8 9 "
          ]
        }
      ]
    },
    {
      "cell_type": "markdown",
      "source": [
        "위의 코드는 변수 x를 0으로 초기화한 후, x가 10보다 작은 동안 반복문을 실행합니다.\n",
        "\n",
        "반복문 내부에서는 print문을 사용하여 x 값을 출력합니다. end=' '는 출력 후 줄바꿈 대신에 공백을 사용하여 숫자를 한 줄에 출력하도록 합니다.\n",
        "\n",
        "그리고 x = x + 1을 통해 x 변수가 1씩 증가합니다.\n",
        "\n",
        "이를 통해 0부터 9까지의 숫자가 공백으로 구분되어 출력됩니다.\n",
        "\n",
        "출력 결과는 다음과 같습니다:\n",
        "\n",
        "0 1 2 3 4 5 6 7 8 9\n",
        "위의 코드를 참고하여 원하는 출력 결과를 얻을 수 있습니다. 추가적인 도움이 필요하시면 언제든지 말씀해주세요!\n",
        "\n",
        "\n",
        "\n",
        "\n"
      ],
      "metadata": {
        "id": "1oaEZ076NS3p"
      }
    },
    {
      "cell_type": "code",
      "source": [
        "\n",
        "x = 0\n",
        "while x < 10:\n",
        "  #print(x)\n",
        "  print(x, end=' ')\n",
        "  x += 1"
      ],
      "metadata": {
        "colab": {
          "base_uri": "https://localhost:8080/"
        },
        "id": "8Fpmt-W0NTn7",
        "outputId": "6f7c0916-54b1-4f07-ae8f-ab8cef87d904"
      },
      "execution_count": 8,
      "outputs": [
        {
          "output_type": "stream",
          "name": "stdout",
          "text": [
            "0 1 2 3 4 5 6 7 8 9 "
          ]
        }
      ]
    },
    {
      "cell_type": "markdown",
      "source": [
        "위의 코드에서는 변수 x를 0으로 초기화한 후, x가 10보다 작은 동안 반복문을 실행합니다.\n",
        "\n",
        "반복문 내부에서는 print문을 사용하여 x 값을 출력합니다. end=' '는 출력 후 줄바꿈 대신에 공백을 사용하여 숫자를 한 줄에 출력하도록 합니다.\n",
        "\n",
        "그리고 x += 1을 통해 x 변수를 1씩 증가시킵니다.\n",
        "\n",
        "이를 통해 0부터 9까지의 숫자가 공백으로 구분되어 출력됩니다."
      ],
      "metadata": {
        "id": "fCz9hJapNav0"
      }
    },
    {
      "cell_type": "markdown",
      "source": [
        "4. 1부터 10까지 합산하는 코드 작성"
      ],
      "metadata": {
        "id": "3OvN4YwrNkXV"
      }
    },
    {
      "cell_type": "code",
      "source": [
        "1부터 10까지 합산하는 코드 작성\n",
        "\n",
        "x = 1\n",
        "total = 0\n",
        "while x <= 10:\n",
        "  total += x\n",
        "  #total = total + 1\n",
        "  #x += 1\n",
        "  x += 1\n",
        "print(total)"
      ],
      "metadata": {
        "id": "HZUEEqyfNmmG"
      },
      "execution_count": null,
      "outputs": []
    },
    {
      "cell_type": "markdown",
      "source": [
        "위의 코드에서는 변수 x를 1로 초기화하고, 변수 total을 0으로 초기화합니다.\n",
        "\n",
        "반복문 내부에서는 total에 x 값을 더하여 누적합니다. total += x는 total = total + x와 동일한 역할을 합니다.\n",
        "\n",
        "그리고 x를 1씩 증가시킵니다. x += 1은 x = x + 1과 동일한 역할을 합니다.\n",
        "\n",
        "반복문은 x가 10보다 작거나 같을 때까지 실행됩니다.\n",
        "\n",
        "반복문이 종료된 후에는 total 변수에 저장된 합계를 출력합니다"
      ],
      "metadata": {
        "id": "2B0N0LOLNqVu"
      }
    },
    {
      "cell_type": "markdown",
      "source": [
        "5. 3-6-9 게임(3의 배수 판단): 3의 배수를 3으로 나누면 나머지가 0이 되므로(i mod 3)의 값이 1이면 박수를 출력, 아니면 숫자 출력하는 코드"
      ],
      "metadata": {
        "id": "ZuGyT2S5N6Op"
      }
    },
    {
      "cell_type": "code",
      "source": [
        "for num in range(1, 20):\n",
        "  if num % 3 == 0:\n",
        "    print(\"박수\", end=' ')\n",
        "  else:\n",
        "    print(num, end=' ')"
      ],
      "metadata": {
        "colab": {
          "base_uri": "https://localhost:8080/"
        },
        "id": "FupJ28NzN9YO",
        "outputId": "616021e1-06e4-4a6f-d890-989dcb0e3123"
      },
      "execution_count": 9,
      "outputs": [
        {
          "output_type": "stream",
          "name": "stdout",
          "text": [
            "1 2 박수 4 5 박수 7 8 박수 10 11 박수 13 14 박수 16 17 박수 19 "
          ]
        }
      ]
    },
    {
      "cell_type": "markdown",
      "source": [
        "위의 코드에서는 for 반복문을 사용하여 num 변수를 1부터 19까지 반복합니다. (range(1, 20)은 1부터 19까지의 숫자를 포함합니다.)\n",
        "\n",
        "반복문 내부에서는 if 조건문을 사용하여 num이 3의 배수인지를 판단합니다. num % 3 == 0은 num을 3으로 나누었을 때 나머지가 0인지를 확인하는 조건입니다.\n",
        "\n",
        "만약 num이 3의 배수라면, \"박수\"를 출력합니다. 여기서 end=' '는 출력 후 줄바꿈 대신에 공백을 사용하여 숫자와 \"박수\"를 한 줄에 출력하도록 합니다.\n",
        "\n",
        "반대로 num이 3의 배수가 아니라면, num을 출력합니다"
      ],
      "metadata": {
        "id": "6FLzUOd9OBdP"
      }
    },
    {
      "cell_type": "code",
      "source": [
        "\n",
        "num = 1\n",
        "while num <= 20:\n",
        "  if num % 3 == 0:\n",
        "    print(\"박수\", end=' ')\n",
        "  else:\n",
        "   print(num, end=' ')\n",
        "  num += 1\n"
      ],
      "metadata": {
        "colab": {
          "base_uri": "https://localhost:8080/"
        },
        "id": "raacYD0eOFZP",
        "outputId": "4db264b6-dc28-420d-f122-8011dd388858"
      },
      "execution_count": 10,
      "outputs": [
        {
          "output_type": "stream",
          "name": "stdout",
          "text": [
            "1 2 박수 4 5 박수 7 8 박수 10 11 박수 13 14 박수 16 17 박수 19 20 "
          ]
        }
      ]
    },
    {
      "cell_type": "markdown",
      "source": [
        "위의 코드에서는 변수 num을 1로 초기화한 후, num이 20보다 작거나 같은 동안 반복문을 실행합니다.\n",
        "\n",
        "반복문 내부에서는 if 조건문을 사용하여 num이 3의 배수인지를 판단합니다. num % 3 == 0은 num을 3으로 나누었을 때 나머지가 0인지를 확인하는 조건입니다.\n",
        "\n",
        "만약 num이 3의 배수라면, \"박수\"를 출력합니다. 여기서 end=' '는 출력 후 줄바꿈 대신에 공백을 사용하여 숫자와 \"박수\"를 한 줄에 출력하도록 합니다.\n",
        "\n",
        "반대로 num이 3의 배수가 아니라면, num을 출력합니다.\n",
        "\n",
        "마지막으로 num을 1씩 증가시킵니다. num += 1은 num = num + 1과 동일한 역할을 합니다.\n"
      ],
      "metadata": {
        "id": "sKTUxHd9OK36"
      }
    },
    {
      "cell_type": "code",
      "source": [
        "\n",
        "1! = 1, 2!=2(1)=2, 3!=3(2)(1)=6\n",
        "\n",
        "i = 5\n",
        "factorial = 1\n",
        "while i >= 1:\n",
        "  factorial *= i\n",
        "  i -=1\n",
        "print(factorial)"
      ],
      "metadata": {
        "colab": {
          "base_uri": "https://localhost:8080/",
          "height": 144
        },
        "id": "L1T1rm-GOPHI",
        "outputId": "41e8ec7e-6b59-4385-9454-69e94db917ac"
      },
      "execution_count": 13,
      "outputs": [
        {
          "output_type": "error",
          "ename": "SyntaxError",
          "evalue": "ignored",
          "traceback": [
            "\u001b[0;36m  File \u001b[0;32m\"<ipython-input-13-9531f07aa938>\"\u001b[0;36m, line \u001b[0;32m1\u001b[0m\n\u001b[0;31m    1! = 1, 2!=2(1)=2, 3!=3(2)(1)=6\u001b[0m\n\u001b[0m     ^\u001b[0m\n\u001b[0;31mSyntaxError\u001b[0m\u001b[0;31m:\u001b[0m invalid syntax\n"
          ]
        }
      ]
    },
    {
      "cell_type": "markdown",
      "source": [
        "위의 코드에서는 변수 i를 5로 초기화하고, 변수 factorial을 1로 초기화합니다.\n",
        "\n",
        "반복문 내부에서는 factorial에 i 값을 곱하여 팩토리얼을 계산합니다. factorial *= i는 factorial = factorial * i와 동일한 역할을 합니다.\n",
        "\n",
        "그리고 i를 1씩 감소시킵니다. i -= 1은 i = i - 1과 동일한 역할을 합니다.\n",
        "\n",
        "반복문은 i가 1 이상일 때까지 실행됩니다.\n",
        "\n",
        "반복문이 종료된 후에는 factorial 변수에 저장된 값을 출력합니다.\n"
      ],
      "metadata": {
        "id": "B7V9aL2LOieh"
      }
    },
    {
      "cell_type": "code",
      "source": [
        "# 계산할 숫자를 입력받습니다.\n",
        "num = int(input(\"팩토리얼을 계산할 숫자를 입력하시오.: \"))\n",
        "\n",
        "# 초기값으로 1을 설정합니다.\n",
        "factorial = 1\n",
        "\n",
        "# 팩토리얼 계산을 위한 반복문인 while 입니다.\n",
        "while num >= 1:                     # num값이 1보다 크거나 같을 때 하위 문장(코드)를 진행\n",
        "  factorial = factorial * num       # 현재 num값을 factorial값에 곱해줍니다.\n",
        "  num -= 1                          # num값을 1씩 감소시킵니다.\n",
        "\n",
        "  print(f'계된 팩토리얼 값은 {factorial} 입니다.')\n",
        "\n",
        "팩토리얼을 계산할 숫자를 입력하시오.: 5\n",
        "계된 팩토리얼 값은 5 입니다.\n",
        "계된 팩토리얼 값은 20 입니다.\n",
        "계된 팩토리얼 값은 60 입니다.\n",
        "계된 팩토리얼 값은 120 입니다.\n",
        "계된 팩토리얼 값은 120 입니다.\n",
        "구구단 출력해주는 코드 작성\n",
        "변수:dan\n",
        "반복문(1):for문 사용\n",
        "반복문(2):while문 사용\n",
        "\n",
        "# for문 사용\n",
        "dan = int(input(\"구구단에서 몇단을 출력할까요: \"))\n",
        "for i in range(1,10):\n",
        "  print(dan, \"x\", i, \"=\", dan * i)\n",
        "\n",
        "구구단에서 몇단을 출력할까요: 4\n",
        "4 x 1 = 4\n",
        "4 x 2 = 8\n",
        "4 x 3 = 12\n",
        "4 x 4 = 16\n",
        "4 x 5 = 20\n",
        "4 x 6 = 24\n",
        "4 x 7 = 28\n",
        "4 x 8 = 32\n",
        "4 x 9 = 36\n",
        " #while문 사용\n",
        "dan = int(input(\"구구단에서 몇 단을 출력할래?: \"))\n",
        "i = 1\n",
        "while i <= 9:\n",
        "  print(dan, \"x\", i, \"=\", dan * i)\n",
        "  i += 1\n",
        "\n",
        "구구단에서 몇 단을 출력할래?: 4\n",
        "4 x 1 = 4\n",
        "4 x 2 = 8\n",
        "4 x 3 = 12\n",
        "4 x 4 = 16\n",
        "4 x 5 = 20\n",
        "4 x 6 = 24\n",
        "4 x 7 = 28\n",
        "4 x 8 = 32\n",
        "4 x 9 = 36"
      ],
      "metadata": {
        "id": "-qR1xjrrOqgW"
      },
      "execution_count": null,
      "outputs": []
    },
    {
      "cell_type": "markdown",
      "source": [
        "1. 사용자로부터 2개의 정수를 받아서 합계를 출력"
      ],
      "metadata": {
        "id": "QnQS90CgPIr3"
      }
    },
    {
      "cell_type": "code",
      "source": [
        "print(\"정수 2개를 입력하시오.\")\n",
        "x = int(input(\"x의 값을 입력하시오. :\"))\n",
        "y = int(input(\"y의 값을 입력하시오. :\"))        #input() 함수를 사용하여 사용자로부터 x와 y의 값을 입력받습니다. int(input(\"x의 값을 입력하시오. :\"))는 사용자로부터 입력받은 값을 정수로 변환하는 역할을 합니다.\n",
        "sum = x + y\n",
        "print(\"x + y의 합계는\" , sum)         # sum = x + y는 x와 y의 합을 sum 변수에 할당하는 역할을 합니다.\n",
        "\n",
        "정수 2개를 입력하시오.\n",
        "x의 값을 입력하시오. :183\n",
        "y의 값을 입력하시오. :69\n",
        "x + y의 합계는 252"
      ],
      "metadata": {
        "id": "kC1vlpJ5PKC1"
      },
      "execution_count": null,
      "outputs": []
    },
    {
      "cell_type": "markdown",
      "source": [
        "2. 부가세 계산"
      ],
      "metadata": {
        "id": "jlBqV9nKPN1g"
      }
    },
    {
      "cell_type": "code",
      "source": [
        "print(\"상품의 가격을 입력하시오.\")\n",
        "price = int(input(\"가격을 입력하시오. :\"))    #함수를 사용하여 사용자로부터 가격을 입력받습니다. int(input(\"가격을 입력하시오. :\"))는 사용자로부터 입력받은 값을 정수로 변환하는 역할을 합니다.\n",
        "\n",
        "price 변수에 입력받은 가격을 저장합니다.\n",
        "vat = price * 0.1\n",
        "print(\"상품의 가격은\" , vat)"
      ],
      "metadata": {
        "id": "uPgY4-4EPREb"
      },
      "execution_count": null,
      "outputs": []
    },
    {
      "cell_type": "code",
      "source": [
        "가치세(VAT)는 가격의 10%로 계산되므로, price에 0.1을 곱하여 vat 변수에 할당합니다.\n",
        "\n",
        "마지막으로 print() 함수를 사용하여 \"상품의 가격은\"과 vat 변수의 값을 출력합니다. print(\"상품의 가격은\", vat)에서 ,는 문자열과 변수를 함께 출력할 때 사용되며, 공백이 추가되어 출력됩니다.\n",
        "\n",
        "출력 결과는 다음과 같습니다:"
      ],
      "metadata": {
        "id": "qWGb5G5EPU_J"
      },
      "execution_count": null,
      "outputs": []
    },
    {
      "cell_type": "markdown",
      "source": [
        "일한 시간과 시급을 계산하여 출력하는 코드\n",
        " - 일한 시간(hours_worked)\n",
        " - 일한 날짜(day_worked)\n",
        " - 시급(pay_rate)\n",
        " - 월급(monthly_pay)"
      ],
      "metadata": {
        "id": "Kkh0c0IVQOmO"
      }
    },
    {
      "cell_type": "code",
      "source": [
        "9hours_worked = int(input(\"일한 시간을 입력하시오.: \"))     # 함수를 사용하여 사용자로부터 일한 시간, 일한 날짜, 시급을 입력받습니다. 각각 hours_worked, day_worked, pay_rate 변수에 저장됩니다. int(input(...))는 사용자로부터 입력받은 값을 정수로 변환하는 역할을 합니다.\n",
        "day_worked = int(input(\"일한 날짜를 입력하시오. :\"))        # 하루의 일한 시간(hours_worked)과 일한 날짜(day_worked)를 곱하여 하루의 총 시간을 저장합니다.\n",
        "pay_rate = int(input(\"시급을 입력하시오.(23년 시급 9620): \")) # 일한 시간(hours_worked)과 시급(pay_rate)을 곱하고 일한 날짜(day_worked)를 곱하여 월급여를 계산합니다.\n",
        "day_month = hours_worked * day_worked                   # 수를 사용하여 일한 시간, 시급, 월급여를 출력합니다. f-string을 사용하여 변수의 값을 문자열에 포맷팅하여 출력합니다. 예시로 주어진 f-string은 \"일한시간은 {hours_worked}시간 이며, 시급은 {pay_rate}원 이고, 월급여는 {monthly_pay}원 입니다.\"입니다. 중괄호 안에 변수 이름을 넣으면 해당 변수의 값이 문자열에 삽입됩니다.\n",
        "monthly_pay = hours_worked * pay_rate * day_worked\n",
        "print(f'일한시간은 {hours_worked}시간 이며, 시급은{pay_rate}원 이고, 월급여는 {monthly_pay}원 입니다. ')"
      ],
      "metadata": {
        "colab": {
          "base_uri": "https://localhost:8080/"
        },
        "id": "SPY545nqQSXi",
        "outputId": "54fbed65-e8ed-42b3-f292-af2373159285"
      },
      "execution_count": 14,
      "outputs": [
        {
          "output_type": "stream",
          "name": "stdout",
          "text": [
            "일한 시간을 입력하시오.: 10\n",
            "일한 날짜를 입력하시오. :25\n",
            "시급을 입력하시오.(23년 시급 9620): 9620\n",
            "일한시간은 10시간 이며, 시급은9620원 이고, 월급여는 2405000원 입니다. \n"
          ]
        }
      ]
    },
    {
      "cell_type": "markdown",
      "source": [
        "환전하는 코드를 작성\n",
        " - 변수 won, usd, exchange\n",
        " - 계산 won * usd\n"
      ],
      "metadata": {
        "id": "9oAOkvSJQ44M"
      }
    },
    {
      "cell_type": "code",
      "source": [
        "usd = int(input(\"환전한 달러를 입력: \"))\n",
        "won = int(input(\"달러의 환율금액 입력(20231031: 1372원)\"))\n",
        "exchange = won * usd\n",
        "print(exchange)\n",
        "print(f'환전하고 싶은  {usd}달러는 환율 {won}으로 계산하면, {exchange}원입니다.'"
      ],
      "metadata": {
        "colab": {
          "base_uri": "https://localhost:8080/",
          "height": 144
        },
        "id": "u_luh6pzQ83t",
        "outputId": "30729571-7720-4166-ec27-4dc8cb01fe88"
      },
      "execution_count": 15,
      "outputs": [
        {
          "output_type": "error",
          "ename": "SyntaxError",
          "evalue": "ignored",
          "traceback": [
            "\u001b[0;36m  File \u001b[0;32m\"<ipython-input-15-1cf13685c326>\"\u001b[0;36m, line \u001b[0;32m5\u001b[0m\n\u001b[0;31m    print(f'환전하고 싶은  {usd}달러는 환율 {won}으로 계산하면, {exchange}원입니다.'\u001b[0m\n\u001b[0m                                                               ^\u001b[0m\n\u001b[0;31mSyntaxError\u001b[0m\u001b[0;31m:\u001b[0m incomplete input\n"
          ]
        }
      ]
    },
    {
      "cell_type": "markdown",
      "source": [
        "input() 함수를 사용하여 사용자로부터 환전한 달러와 환율을 입력받습니다. 각각 usd, won 변수에 저장됩니다. int(input(...))는 사용자로부터 입력받은 값을 정수로 변환하는 역할을 합니다.\n",
        "\n",
        "exchange 변수에는 환율(won)과 환전한 달러(usd)를 곱하여 원화로 환전한 금액을 계산합니다.\n",
        "\n",
        "마지막으로 print() 함수를 사용하여 원화로 환전한 금액(exchange)을 출력합니다. 또한, f-string을 사용하여 변수의 값을 문자열에 포맷팅하여 출력합니다. 예시로 주어진 f-string은 \"환전하고 싶은 {usd}달러는 환율 {won}으로 계산하면, {exchange}원입니다.\"입니다. 중괄호 안에 변수 이름을 넣으면 해당 변수의 값이 문자열에 삽입됩니다.\n",
        "\n",
        "출력 결과는 다음과 같습니다:\n",
        "\n"
      ],
      "metadata": {
        "id": "_l5qWTLJRD7z"
      }
    },
    {
      "cell_type": "code",
      "source": [
        "화씨를 섭씨로 섭씨를 화씨로 변경하는 코드\n",
        "화씨를 섭씨로 ℉ = ℃* 1.8 + 32\n",
        "섭씨를 화씨로 ℃ = (℉ - 32)/1.8\n",
        "변수 : 화씨 fahrenheit, 섭씨 celsius"
      ],
      "metadata": {
        "colab": {
          "base_uri": "https://localhost:8080/",
          "height": 144
        },
        "id": "ddOfKb0bRIup",
        "outputId": "c06afada-14ed-43f4-cd46-321c0ff277ed"
      },
      "execution_count": 16,
      "outputs": [
        {
          "output_type": "error",
          "ename": "SyntaxError",
          "evalue": "ignored",
          "traceback": [
            "\u001b[0;36m  File \u001b[0;32m\"<ipython-input-16-4b0fab2adebe>\"\u001b[0;36m, line \u001b[0;32m2\u001b[0m\n\u001b[0;31m    화씨를 섭씨로 ℉ = ℃* 1.8 + 32\u001b[0m\n\u001b[0m            ^\u001b[0m\n\u001b[0;31mSyntaxError\u001b[0m\u001b[0;31m:\u001b[0m invalid character '℉' (U+2109)\n"
          ]
        }
      ]
    },
    {
      "cell_type": "code",
      "source": [
        "위의 코드에서는 input() 함수를 사용하여 사용자로부터 화씨 온도를 입력받습니다. 입력받은 값은 fahrenheit 변수에 저장됩니다. int(input(...))는 사용자로부터 입력받은 값을 정수로 변환하는 역할을 합니다.\n",
        "\n",
        "celsius 변수에는 화씨 온도(fahrenheit)에서 32를 뺀 후, 1.8로 나누어 섭씨 온도로 변환한 값을 저장합니다. 화씨에서 섭씨로 변환하는 공식은 (화씨 - 32) / 1.8입니다.\n",
        "\n",
        "마지막으로 print() 함수를 사용하여 섭씨 온도(celsius)를 출력합니다"
      ],
      "metadata": {
        "id": "ImvbaQm6RM08"
      },
      "execution_count": null,
      "outputs": []
    },
    {
      "cell_type": "code",
      "source": [
        "\n",
        "celsius = float(input(\"섭씨를 입력하시오.: \"))\n",
        "fahrenheit = celsius * 1.8 + 32\n",
        "print(fahrenheit)\n",
        ""
      ],
      "metadata": {
        "colab": {
          "base_uri": "https://localhost:8080/"
        },
        "id": "w6s3MUTBRT7J",
        "outputId": "9a8d2746-38ad-42f3-8449-1eed6320ecc9"
      },
      "execution_count": 17,
      "outputs": [
        {
          "output_type": "stream",
          "name": "stdout",
          "text": [
            "섭씨를 입력하시오.: 37.77777777777778\n",
            "100.0\n"
          ]
        }
      ]
    },
    {
      "cell_type": "markdown",
      "source": [
        "위의 코드에서는 input() 함수를 사용하여 사용자로부터 섭씨 온도를 입력받습니다. 입력받은 값은 celsius 변수에 저장됩니다. float(input(...))는 사용자로부터 입력받은 값을 실수로 변환하는 역할을 합니다.\n",
        "\n",
        "fahrenheit 변수에는 섭씨 온도(celsius)에 1.8을 곱하고 32를 더하여 화씨 온도로 변환한 값을 저장합니다. 섭씨에서 화씨로 변환하는 공식은 섭씨 * 1.8 + 32입니다.\n",
        "\n",
        "마지막으로 print() 함수를 사용하여 화씨 온도(fahrenheit)를 출력합니다."
      ],
      "metadata": {
        "id": "ZI1V9l4hRflB"
      }
    },
    {
      "cell_type": "code",
      "source": [
        "쇼핑몰의 배송비를 계산하는 코드 작성\n",
        "\n",
        "사용하는 변수 : price, shipping_cost"
      ],
      "metadata": {
        "id": "DVwSpVp9RgUa"
      },
      "execution_count": null,
      "outputs": []
    },
    {
      "cell_type": "code",
      "source": [
        "print(\"상품의 가격을 입력하시오. \");\n",
        "price = int(input(\"구입금액 입력\"));\n",
        "if price > 20000:\n",
        "  shipping_cost = 0\n",
        "  print(f'구입금액이 2만원 이상입낟.')\n",
        "else:\n",
        "  shipping_cost = 3000\n",
        "  print(f'구입금액이 2만원 이하입니다.')\n",
        "print(f'회원님의 배송비는 {shipping_cost}원 입니다.')\n",
        ""
      ],
      "metadata": {
        "colab": {
          "base_uri": "https://localhost:8080/"
        },
        "id": "UOni0bs9RmWs",
        "outputId": "47f448a0-cb03-48b2-c89c-4145274718d7"
      },
      "execution_count": 18,
      "outputs": [
        {
          "output_type": "stream",
          "name": "stdout",
          "text": [
            "상품의 가격을 입력하시오. \n",
            "구입금액 입력20000\n",
            "구입금액이 2만원 이하입니다.\n",
            "회원님의 배송비는 3000원 입니다.\n"
          ]
        }
      ]
    },
    {
      "cell_type": "markdown",
      "source": [
        "위의 코드에서는 먼저 \"상품의 가격을 입력하시오.\"라는 메시지를 출력합니다.\n",
        "\n",
        "다음으로 input() 함수를 사용하여 사용자로부터 구입금액을 입력받습니다. int(input(\"구입금액 입력\"))는 사용자로부터 입력받은 값을 정수로 변환하는 역할을 합니다.\n",
        "\n",
        "if 문을 사용하여 구입금액이 2만원 이상인지 확인합니다. 만약 구입금액이 2만원 이상이라면 shipping_cost 변수에 0을 할당하고 \"구입금액이 2만원 이상입니다.\"라는 메시지를 출력합니다.\n",
        "\n",
        "구입금액이 2만원 이하인 경우에는 shipping_cost 변수에 3000을 할당하고 \"구입금액이 2만원 이하입니다.\"라는 메시지를 출력합니다.\n",
        "\n",
        "마지막으로 print() 함수를 사용하여 배송비를 출력합니다. f-string을 사용하여 변수의 값을 문자열에 포맷팅하여 출력합니다. 예시로 주어진 f-string은 \"회원님의 배송비는 {shipping_cost}원 입니다.\"입니다. 중괄호 안에 변수 이름을 넣으면 해당 변수의 값이 문자열에 삽입됩니다."
      ],
      "metadata": {
        "id": "ULnAfd5bR2gy"
      }
    },
    {
      "cell_type": "markdown",
      "source": [
        "학생으로부터 성적을 입력받아 합격유무를 출력하는 코드\n",
        "사용하는 변수 : grade"
      ],
      "metadata": {
        "id": "aejtrRP1Rx9f"
      }
    },
    {
      "cell_type": "code",
      "source": [
        "\n",
        "print(\"성적을 입력하시오.\")\n",
        "grade = int(input(\"성적 입력:\"))\n",
        "if grade >= 70:\n",
        "  print(f'70점 이상이므로 합격입니다.')\n",
        "  print(f'축하합니다. 합격입니다.')\n",
        "else:\n",
        "  print(f'70점 이하이므로 불합격입니다.')\n",
        "  print(\"아쉽군요. 다시 한 번 도전하세요.\")"
      ],
      "metadata": {
        "colab": {
          "base_uri": "https://localhost:8080/"
        },
        "id": "XdI_YkiLRyfG",
        "outputId": "428d73b6-f187-4f5c-e016-967ceccdeed7"
      },
      "execution_count": 19,
      "outputs": [
        {
          "output_type": "stream",
          "name": "stdout",
          "text": [
            "성적을 입력하시오.\n",
            "성적 입력:71\n",
            "70점 이상이므로 합격입니다.\n",
            "축하합니다. 합격입니다.\n"
          ]
        }
      ]
    },
    {
      "cell_type": "markdown",
      "source": [
        "코드에서는 먼저 \"성적을 입력하시오.\"라는 메시지를 출력합니다.\n",
        "\n",
        "다음으로 input() 함수를 사용하여 사용자로부터 성적을 입력받습니다. int(input(\"성적 입력:\"))는 사용자로부터 입력받은 값을 정수로 변환하는 역할을 합니다.\n",
        "\n",
        "if 문을 사용하여 성적이 70점 이상인지 확인합니다. 만약 성적이 70점 이상이라면 \"70점 이상이므로 합격입니다.\"라는 메시지와 \"축하합니다. 합격입니다.\"라는 메시지를 출력합니다.\n",
        "\n",
        "성적이 70점 이하인 경우에는 \"70점 이하이므로 불합격입니다.\"라는 메시지와 \"아쉽군요. 다시 한 번 도전하세요.\"라는 메시지를 출력합니다."
      ],
      "metadata": {
        "id": "4vfJP9nSSGK9"
      }
    },
    {
      "cell_type": "markdown",
      "source": [
        "근무시간에 따라 초과근무\n",
        " - 사용하는 변수 : work_hour\n",
        " - 연산코드 : work_hour > 72"
      ],
      "metadata": {
        "id": "ogHlUIjCSB2y"
      }
    },
    {
      "cell_type": "code",
      "source": [
        "print(\"근무시간을 입력하시오. \")\n",
        "work_hour = int(input(\"근무시간 입력: \"))\n",
        "if work_hour > 72:\n",
        "  print(\"#\"*20 )\n",
        "  print('# 초과근무 입니다. #')\n",
        "  print(\"#\"*20 )\n",
        "else:\n",
        "  print(\"#\"*20 )\n",
        "  print('# 정상근무 입니다. #')\n",
        "  print(\"#\"*20"
      ],
      "metadata": {
        "colab": {
          "base_uri": "https://localhost:8080/",
          "height": 144
        },
        "id": "Y9KHoN0qSCt5",
        "outputId": "dca741dc-b425-44a0-fe0c-675346be9005"
      },
      "execution_count": 20,
      "outputs": [
        {
          "output_type": "error",
          "ename": "SyntaxError",
          "evalue": "ignored",
          "traceback": [
            "\u001b[0;36m  File \u001b[0;32m\"<ipython-input-20-b0265d89af25>\"\u001b[0;36m, line \u001b[0;32m10\u001b[0m\n\u001b[0;31m    print(\"#\"*20\u001b[0m\n\u001b[0m                 ^\u001b[0m\n\u001b[0;31mSyntaxError\u001b[0m\u001b[0;31m:\u001b[0m incomplete input\n"
          ]
        }
      ]
    },
    {
      "cell_type": "markdown",
      "source": [
        "위의 코드에서는 먼저 \"근무시간을 입력하시오.\"라는 메시지를 출력합니다.\n",
        "\n",
        "다음으로 input() 함수를 사용하여 사용자로부터 근무시간을 입력받습니다. int(input(\"근무시간 입력: \"))는 사용자로부터 입력받은 값을 정수로 변환하는 역할을 합니다.\n",
        "\n",
        "if 문을 사용하여 근무시간이 72시간을 초과하는지 확인합니다. 만약 근무시간이 72시간을 초과한다면 \"#\" 문자를 20번 반복하여 출력하는 부분과 \"초과근무 입니다.\"라는 메시지를 출력합니다.\n",
        "\n",
        "근무시간이 72시간 이하인 경우에는 \"#\" 문자를 20번 반복하여 출력하는 부분과 \"정상근무 입니다.\"라는 메시지를 출력합니다."
      ],
      "metadata": {
        "id": "zPYSXJTySSsX"
      }
    },
    {
      "cell_type": "markdown",
      "source": [
        "짝수와 홀수를 판별하는 코드\n",
        " - 사용하는 변수 : num\n",
        " - 수식 : (x % 2)!=0:"
      ],
      "metadata": {
        "id": "Ldd3HNsCSWif"
      }
    },
    {
      "cell_type": "code",
      "source": [
        "print(\"점수를 입력하시오.\")\n",
        "_num_ = int(input(\"정수 입력: \"))\n",
        "if (_num_ % 2) != 0:\n",
        "  print(f'입려하신 {_num_}은 홀수입니다.')\n",
        "else:\n",
        "  print(f'입력하신 {_num_}은 짝수입니다.')"
      ],
      "metadata": {
        "colab": {
          "base_uri": "https://localhost:8080/"
        },
        "id": "_g1YzXiwSW90",
        "outputId": "85f873b2-beac-4288-b6be-4ea87ad8d48b"
      },
      "execution_count": 21,
      "outputs": [
        {
          "output_type": "stream",
          "name": "stdout",
          "text": [
            "점수를 입력하시오.\n",
            "정수 입력: 2\n",
            "입력하신 2은 짝수입니다.\n"
          ]
        }
      ]
    },
    {
      "cell_type": "markdown",
      "source": [
        "위의 코드에서는 먼저 \"점수를 입력하시오.\"라는 메시지를 출력합니다.\n",
        "\n",
        "다음으로 input() 함수를 사용하여 사용자로부터 정수를 입력받습니다. int(input(\"정수 입력: \"))는 사용자로부터 입력받은 값을 정수로 변환하는 역할을 합니다.\n",
        "\n",
        "if 문을 사용하여 입력한 수가 홀수인지 짝수인지 판단합니다. 입력한 수를 2로 나눈 나머지가 0이 아니라면 홀수이므로 \"입력하신 {num}은 홀수입니다.\"라는 메시지를 출력합니다.\n",
        "\n",
        "입력한 수를 2로 나눈 나머지가 0이라면 짝수이므로 \"입력하신 {num}은 짝수입니다.\"라는 메시지를 출력합니다.\n",
        "\n"
      ],
      "metadata": {
        "id": "VAgJwOhDSqN-"
      }
    },
    {
      "cell_type": "markdown",
      "source": [
        "사용자의 이름과 나이를 물어보고 답변하는 코드\n",
        " - 사용하는 변수 : name,age\n",
        " - 출력할 내용 :\n",
        " - 성명\n",
        " - 나이:20\n",
        " - (1) 20이하:프로그래밍을 배우는 최적의 나이입니다.\n",
        " - (2) 20이상:아직도 늦지 않았습니다."
      ],
      "metadata": {
        "id": "AUJJr75hSq7r"
      }
    },
    {
      "cell_type": "code",
      "source": [
        "print(\"나이를 입력하시오.\")\n",
        "name = input(\"이름 입력: \")\n",
        "age = int(input(\"나이 입력: \"))\n",
        "if age < 20:\n",
        "  print(f'프로그래밍을 배우는 최적의 나이입니다.')\n",
        "else:\n",
        "  print(f'아직도 늦지 않았습니다.')"
      ],
      "metadata": {
        "colab": {
          "base_uri": "https://localhost:8080/"
        },
        "id": "fLuPcDP5S1If",
        "outputId": "54432022-10af-44e5-b647-21a2c687d178"
      },
      "execution_count": 22,
      "outputs": [
        {
          "output_type": "stream",
          "name": "stdout",
          "text": [
            "나이를 입력하시오.\n",
            "이름 입력: 심수빈\n",
            "나이 입력: 20\n",
            "아직도 늦지 않았습니다.\n"
          ]
        }
      ]
    },
    {
      "cell_type": "markdown",
      "source": [
        "위의 코드에서는 먼저 \"나이를 입력하시오.\"라는 메시지를 출력합니다.\n",
        "\n",
        "다음으로 input() 함수를 사용하여 사용자로부터 이름을 입력받습니다. 입력한 값을 name 변수에 저장합니다.\n",
        "\n",
        "다음으로 input() 함수를 사용하여 사용자로부터 나이를 입력받습니다. 입력한 값을 정수로 변환하여 age 변수에 저장합니다.\n",
        "\n",
        "if 문을 사용하여 나이가 20보다 작은지 확인합니다. 만약 나이가 20보다 작다면 \"프로그래밍을 배우는 최적의 나이입니다.\"라는 메시지를 출력합니다.\n",
        "\n",
        "나이가 20보다 크거나 같다면 \"아직도 늦지 않았습니다.\"라는 메시지를 출력합니다."
      ],
      "metadata": {
        "id": "0F_FP_NlTAFw"
      }
    }
  ]
}