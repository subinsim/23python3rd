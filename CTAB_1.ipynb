{
  "nbformat": 4,
  "nbformat_minor": 0,
  "metadata": {
    "colab": {
      "provenance": [],
      "authorship_tag": "ABX9TyNtpotJuyWijw2D+dp3BW4+",
      "include_colab_link": true
    },
    "kernelspec": {
      "name": "python3",
      "display_name": "Python 3"
    },
    "language_info": {
      "name": "python"
    }
  },
  "cells": [
    {
      "cell_type": "markdown",
      "metadata": {
        "id": "view-in-github",
        "colab_type": "text"
      },
      "source": [
        "<a href=\"https://colab.research.google.com/github/subinsim/23python3rd/blob/main/CTAB_1.ipynb\" target=\"_parent\"><img src=\"https://colab.research.google.com/assets/colab-badge.svg\" alt=\"Open In Colab\"/></a>"
      ]
    },
    {
      "cell_type": "markdown",
      "source": [
        "1, 쇼핑몰의 배송비를 계산하는 코드 작성\n",
        " - 사용하는 변수 : price, shipping_cost"
      ],
      "metadata": {
        "id": "-gKGRcIQ4Nq3"
      }
    },
    {
      "cell_type": "code",
      "source": [
        "print(\"상품의 가격을 입력하시오. \");\n",
        "price = int(input(\"구입금액 입력\"));\n",
        "if price > 20000:\n",
        "  shipping_cost = 0\n",
        "  print(f'구입금액이 2만원 이상입낟.')\n",
        "else:\n",
        "  shipping_cost = 3000\n",
        "  print(f'구입금액이 2만원 이하입니다.')\n",
        "print(f'회원님의 배송비는 {shipping_cost}원 입니다.')"
      ],
      "metadata": {
        "colab": {
          "base_uri": "https://localhost:8080/"
        },
        "id": "kbxfQYSp4Z4Q",
        "outputId": "c20c48bb-e0ed-470d-a5fe-a1a720a3f7d8"
      },
      "execution_count": 1,
      "outputs": [
        {
          "output_type": "stream",
          "name": "stdout",
          "text": [
            "상품의 가격을 입력하시오. \n",
            "구입금액 입력20000\n",
            "구입금액이 2만원 이하입니다.\n",
            "회원님의 배송비는 3000원 입니다.\n"
          ]
        }
      ]
    },
    {
      "cell_type": "markdown",
      "source": [
        "2. 학생으로부터 성적을 입력받아 합격유무를 출력하는 코드\n",
        "- 사용하는 변수 : grade"
      ],
      "metadata": {
        "id": "nI5BzgB95LSg"
      }
    },
    {
      "cell_type": "code",
      "source": [
        "print(\"성적을 입력하시오.\")\n",
        "grade = int(input(\"성적 입력:\"))\n",
        "if grade >= 70:\n",
        "  print(f'70점 이상이므로 합격입니다.')\n",
        "  print(f'축하합니다. 합격입니다.')\n",
        "else:\n",
        "  print(f'70점 이하이므로 불합격입니다.')\n",
        "  print(\"아쉽군요. 다시 한 번 도전하세요.\")"
      ],
      "metadata": {
        "colab": {
          "base_uri": "https://localhost:8080/"
        },
        "id": "J6K6xFK25TWZ",
        "outputId": "ddcad75c-3314-4bd3-f97b-94833502c0e4"
      },
      "execution_count": 2,
      "outputs": [
        {
          "output_type": "stream",
          "name": "stdout",
          "text": [
            "성적을 입력하시오.\n",
            "성적 입력:71\n",
            "70점 이상이므로 합격입니다.\n",
            "축하합니다. 합격입니다.\n"
          ]
        }
      ]
    },
    {
      "cell_type": "markdown",
      "source": [
        "3. 근무시간에 따라 초과근무\n",
        "- 사용하는 변수 : work_hour\n",
        "- 연산코드 : work_hour > 72"
      ],
      "metadata": {
        "id": "jttzoReV6J0Q"
      }
    },
    {
      "cell_type": "code",
      "source": [
        "print(\"근무시간을 입력하시오. \")\n",
        "work_hour = int(input(\"근무시간 입력: \"))\n",
        "if work_hour > 72:\n",
        "  print(\"#\"*20 )\n",
        "  print('# 초과근무 입니다. #')\n",
        "  print(\"#\"*20 )\n",
        "else:\n",
        "  print(\"#\"*20 )\n",
        "  print('# 정상근무 입니다. #')\n",
        "  print(\"#\"*20 )"
      ],
      "metadata": {
        "colab": {
          "base_uri": "https://localhost:8080/"
        },
        "id": "4bng9obR6gtg",
        "outputId": "a5b09db2-5f03-4b9a-d2a4-a2da766e03b5"
      },
      "execution_count": 3,
      "outputs": [
        {
          "output_type": "stream",
          "name": "stdout",
          "text": [
            "근무시간을 입력하시오. \n",
            "근무시간 입력: 10\n",
            "####################\n",
            "# 정상근무 입니다. #\n",
            "####################\n"
          ]
        }
      ]
    },
    {
      "cell_type": "markdown",
      "source": [
        "4. 짝수와 홀수를 판별하는 코드\n",
        "- 사용하는 변수 : _num_\n",
        "- 수식 : (x % 2)!=0:\n"
      ],
      "metadata": {
        "id": "lZPp8CJh7W4d"
      }
    },
    {
      "cell_type": "code",
      "source": [
        "print(\"점수를 입력하시오.\")\n",
        "_num_ = int(input(\"정수 입력: \"))\n",
        "if (_num_ % 2) != 0:\n",
        "  print(f'입려하신 {_num_}은 홀수입니다.')\n",
        "else:\n",
        "  print(f'입력하신 {_num_}은 짝수입니다.')"
      ],
      "metadata": {
        "colab": {
          "base_uri": "https://localhost:8080/"
        },
        "id": "FCGGjTv97ozQ",
        "outputId": "b827064c-522c-4436-e857-1604d62479a5"
      },
      "execution_count": 4,
      "outputs": [
        {
          "output_type": "stream",
          "name": "stdout",
          "text": [
            "점수를 입력하시오.\n",
            "정수 입력: 2\n",
            "입력하신 2은 짝수입니다.\n"
          ]
        }
      ]
    },
    {
      "cell_type": "markdown",
      "source": [
        "5. 사용자의 이름과 나이를 물어보고 답변하는 코드\n",
        "- 사용하는 변수 : name,age\n",
        "- 출력할 내용 :\n",
        " - 성명\n",
        " - 나이:20\n",
        " - (1) 20이하:프로그래밍을 배우는 최적의 나이입니다.\n",
        " - (2) 20이상:아직도 늦지 않았습니다."
      ],
      "metadata": {
        "id": "bUaIvdFz8WbJ"
      }
    },
    {
      "cell_type": "code",
      "source": [
        "print(\"나이를 입력하시오.\")\n",
        "name = input(\"이름 입력: \")\n",
        "age = int(input(\"나이 입력: \"))\n",
        "if age < 20:\n",
        "  print(f'프로그래밍을 배우는 최적의 나이입니다.')\n",
        "else:\n",
        "  print(f'아직도 늦지 않았습니다.')"
      ],
      "metadata": {
        "colab": {
          "base_uri": "https://localhost:8080/"
        },
        "id": "B-CYzOmM870Z",
        "outputId": "258bda3f-3730-41b5-ba90-214fa5d34907"
      },
      "execution_count": 5,
      "outputs": [
        {
          "output_type": "stream",
          "name": "stdout",
          "text": [
            "나이를 입력하시오.\n",
            "이름 입력: 심수빈\n",
            "나이 입력: 20\n",
            "아직도 늦지 않았습니다.\n"
          ]
        }
      ]
    }
  ]
}