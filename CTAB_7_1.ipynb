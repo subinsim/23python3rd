{
  "nbformat": 4,
  "nbformat_minor": 0,
  "metadata": {
    "colab": {
      "provenance": [],
      "authorship_tag": "ABX9TyPSkh26F7Ji5EzWnNFiEaya",
      "include_colab_link": true
    },
    "kernelspec": {
      "name": "python3",
      "display_name": "Python 3"
    },
    "language_info": {
      "name": "python"
    }
  },
  "cells": [
    {
      "cell_type": "markdown",
      "metadata": {
        "id": "view-in-github",
        "colab_type": "text"
      },
      "source": [
        "<a href=\"https://colab.research.google.com/github/subinsim/23python3rd/blob/main/CTAB_7_1.ipynb\" target=\"_parent\"><img src=\"https://colab.research.google.com/assets/colab-badge.svg\" alt=\"Open In Colab\"/></a>"
      ]
    },
    {
      "cell_type": "markdown",
      "source": [
        "1. 일한 시간과 시급을 계산하여 출력하는 코드\n",
        "- 일한 시간(hours_worked)\n",
        "- 일한 날짜(day_worked)\n",
        "- 시급(pay_rate)\n",
        "- 월급(monthly_pay)"
      ],
      "metadata": {
        "id": "6U6b6KD6Z_la"
      }
    },
    {
      "cell_type": "code",
      "source": [
        "hours_worked = int(input(\"일한 시간을 입력하시오.: \"))\n",
        "day_worked = int(input(\"일한 날짜를 입력하시오. :\"))\n",
        "pay_rate = int(input(\"시급을 입력하시오.(23년 시급 9620): \"))\n",
        "day_month = hours_worked * day_worked\n",
        "monthly_pay = hours_worked * pay_rate * day_worked\n",
        "print(f'일한시간은 {hours_worked}시간 이며, 시급은{pay_rate}원 이고, 월급여는 {monthly_pay}원 입니다. ')"
      ],
      "metadata": {
        "colab": {
          "base_uri": "https://localhost:8080/"
        },
        "id": "ewSPTUc9cAFL",
        "outputId": "60bee404-25b5-4b07-ca5f-dd7f6ddcc281"
      },
      "execution_count": 4,
      "outputs": [
        {
          "output_type": "stream",
          "name": "stdout",
          "text": [
            "일한 시간을 입력하시오.: 10\n",
            "일한 날짜를 입력하시오. :25\n",
            "시급을 입력하시오.(23년 시급 9620): 9620\n",
            "일한시간은 10시간 이며, 시급은9620원 이고, 월급여는 2405000원 입니다. \n"
          ]
        }
      ]
    },
    {
      "cell_type": "markdown",
      "source": [
        "2. 환전하는 코드를 작성\n",
        "\n",
        "- 변수 won, usd, exchange\n",
        "- 계산 won * usd"
      ],
      "metadata": {
        "id": "6oHFUPpfcGe-"
      }
    },
    {
      "cell_type": "code",
      "source": [
        "usd = int(input(\"환전한 달러를 입력: \"))\n",
        "won = int(input(\"달러의 환율금액 입력(20231031: 1372원)\"))\n",
        "exchange = won * usd\n",
        "print(exchange)\n",
        "print(f'환전하고 싶은  {usd}달러는 환율 {won}으로 계산하면, {exchange}원입니다.')"
      ],
      "metadata": {
        "colab": {
          "base_uri": "https://localhost:8080/"
        },
        "id": "6gzjC2VAcL4h",
        "outputId": "6e5d8460-0fe8-4801-aa93-cbbb9427c4b2"
      },
      "execution_count": 5,
      "outputs": [
        {
          "output_type": "stream",
          "name": "stdout",
          "text": [
            "환전한 달러를 입력: 500\n",
            "달러의 환율금액 입력(20231031: 1372원)1372\n",
            "686000\n",
            "환전하고 싶은  500달러는 환율 1372으로 계산하면, 686000원입니다.\n"
          ]
        }
      ]
    },
    {
      "cell_type": "markdown",
      "source": [
        "3. 화씨를 섭씨로 섭씨를 화씨로 변경하는 코드\n",
        "- 화씨를 섭씨로 ℉ = ℃* 1.8 + 32\n",
        "- 섭씨를 화씨로 ℃ = (℉ - 32)/1.8\n",
        "- 변수 : 화씨 fahrenheit, 섭씨 celsius"
      ],
      "metadata": {
        "id": "WvrPEAgecU2w"
      }
    },
    {
      "cell_type": "code",
      "source": [
        "fahrenheit = int(input(\"화씨를 입력하시오.: \"))\n",
        "celsius = (fahrenheit - 32) / 1.8\n",
        "print(celsius)\n",
        ""
      ],
      "metadata": {
        "colab": {
          "base_uri": "https://localhost:8080/"
        },
        "id": "O6_cg-nQcXoW",
        "outputId": "c121bc67-738a-4d19-c70e-143cc306e127"
      },
      "execution_count": 6,
      "outputs": [
        {
          "output_type": "stream",
          "name": "stdout",
          "text": [
            "화씨를 입력하시오.: 100\n",
            "37.77777777777778\n"
          ]
        }
      ]
    },
    {
      "cell_type": "code",
      "source": [
        "celsius = float(input(\"섭씨를 입력하시오.: \"))\n",
        "fahrenheit = celsius * 1.8 + 32\n",
        "print(fahrenheit)"
      ],
      "metadata": {
        "colab": {
          "base_uri": "https://localhost:8080/"
        },
        "id": "HveDuKYRcdsb",
        "outputId": "891e3a63-5667-4041-a1fb-f36241fd209a"
      },
      "execution_count": 7,
      "outputs": [
        {
          "output_type": "stream",
          "name": "stdout",
          "text": [
            "섭씨를 입력하시오.: 37.77777777777778\n",
            "100.0\n"
          ]
        }
      ]
    }
  ]
}